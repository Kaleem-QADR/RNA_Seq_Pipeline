{
 "cells": [
  {
   "cell_type": "code",
   "execution_count": null,
   "metadata": {
    "vscode": {
     "languageId": "plaintext"
    }
   },
   "outputs": [],
   "source": []
  },
  {
   "cell_type": "markdown",
   "metadata": {},
   "source": [
    "# RNA Sequencing and Differential Abundance Analysis Pipeline for Huntington's Disease (GSE270472)\n",
    "\n",
    "## 1. Rationale Behind Parameter Choices\n",
    "# ------------------------------------------------------\n",
    "- FastQC: Quality control to check GC content, per-base quality, and adapter contamination.\n",
    "- BBDUK 2: Used for read trimming (Q ≥ 20) to remove low-quality bases and adapters.\n",
    "- Bowtie2: Aligns reads to the GRCh38 reference genome with `-X 1000` (max insert size) and `--un-conc` (output unaligned reads).\n",
    "- RSEM: Used for gene expression quantification with TPM values.\n",
    "- DESeq2: Used for differential expression analysis with the design formula `~ condition + batch`.\n",
    "- GSEA & gProfiler2: Used for gene ontology enrichment and pathway analysis.\n",
    "\n",
    "2. RNA-Seq Pipeline (Trimming, Alignment, Quantification)\n",
    " ---------------------------------------------------------\n",
    " - Read Trimming: BBDUK 2 removes adapters and low-quality sequences.\n",
    " - Read Alignment: Bowtie2 aligns sequences to GRCh38.\n",
    " - Read Quantification: RSEM estimates transcript abundance.\n",
    "\n",
    "## 3. Differential Abundance Analysis (DESeq2, GSEA, gProfiler2)\n",
    " --------------------------------------------------------------\n",
    " - DESeq2: Used with FDR < 0.05 to identify DEGs.\n",
    " - GSEA: Gene set enrichment to detect significant pathways.\n",
    " - gProfiler2: Functional enrichment analysis with GO terms.\n",
    "\n",
    "## 4. Biological Questions Addressed\n",
    " ------------------------------------\n",
    " - How does HTT loss-of-function contribute to HD pathogenesis?\n",
    " - Which key pathways and biological processes are altered?\n",
    " - What are the differentially expressed genes between HTT knockdown and control groups?\n",
    "\n",
    "## Limitations and Biases\n",
    " -------------------------\n",
    " - Batch effects in sequencing runs may introduce variability.\n",
    " - Incomplete rRNA removal could impact downstream analysis.\n",
    " - Read depth variability affects the detection of low-expressed genes.\n",
    "\n",
    "print(\"RNA-Seq pipeline setup complete.\")"
   ]
  },
  {
   "cell_type": "code",
   "execution_count": null,
   "metadata": {
    "vscode": {
     "languageId": "plaintext"
    }
   },
   "outputs": [],
   "source": []
  }
 ],
 "metadata": {
  "language_info": {
   "name": "python"
  }
 },
 "nbformat": 4,
 "nbformat_minor": 2
}
