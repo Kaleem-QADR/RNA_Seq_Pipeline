{
 "cells": [
  {
   "cell_type": "markdown",
   "metadata": {},
   "source": [
    "# RNA Sequencing and Differential Abundance Analysis Pipeline for Huntington's Disease (GSE270472)\n",
    "\n",
    "## 1. Rationale Behind Parameter Choices\n",
    " ------------------------------------------------------\n",
    "- FastQC: Quality control to check GC content, per-base quality, and adapter contamination.\n",
    "- BBDUK 2: Used for read trimming (Q ≥ 20) to remove low-quality bases and adapters.\n",
    "- Bowtie2: Aligns reads to the GRCh38 reference genome with `-X 1000` (max insert size) and `--un-conc` (output unaligned reads).\n",
    "- RSEM: Used for gene expression quantification with TPM values.\n",
    "- DESeq2: Used for differential expression analysis with the design formula `~ condition + batch`.\n",
    "- GSEA & gProfiler2: Used for gene ontology enrichment and pathway analysis.\n",
    "\n",
    "## 2. RNA-Seq Pipeline (Trimming, Alignment, Quantification)\n",
    " ---------------------------------------------------------\n",
    " - Read Trimming: BBDUK 2 removes adapters and low-quality sequences.\n",
    " - Read Alignment: Bowtie2 aligns sequences to GRCh38.\n",
    " - Read Quantification: RSEM estimates transcript abundance.\n",
    "\n",
    "## 3. Differential Abundance Analysis (DESeq2, GSEA, gProfiler2)\n",
    " --------------------------------------------------------------\n",
    " - DESeq2: Used with FDR < 0.05 to identify DEGs.\n",
    " - GSEA: Gene set enrichment to detect significant pathways.\n",
    " - gProfiler2: Functional enrichment analysis with GO terms.\n",
    "\n",
    "## 4. Biological Questions Addressed\n",
    " ------------------------------------\n",
    " - How does HTT loss-of-function contribute to HD pathogenesis?\n",
    " - Which key pathways and biological processes are altered?\n",
    " - What are the differentially expressed genes between HTT knockdown and control groups?\n",
    "\n",
    "## Limitations and Biases\n",
    " -------------------------\n",
    " - Batch effects in sequencing runs may introduce variability.\n",
    " - Incomplete rRNA removal could impact downstream analysis.\n",
    " - Read depth variability affects the detection of low-expressed genes.\n",
    "\n",
    "print(\"RNA-Seq pipeline setup complete.\")"
   ]
  },
  {
   "cell_type": "markdown",
   "metadata": {},
   "source": [
    "Shell Script for Nextflow Execution"
   ]
  },
  {
   "cell_type": "code",
   "execution_count": 2,
   "metadata": {},
   "outputs": [
    {
     "ename": "SyntaxError",
     "evalue": "invalid syntax (3503914526.py, line 2)",
     "output_type": "error",
     "traceback": [
      "\u001b[1;36m  Cell \u001b[1;32mIn[2], line 2\u001b[1;36m\u001b[0m\n\u001b[1;33m    nextflow run main.nf --reads 'path/to/reads/*_R{1,2}.fastq.gz'\u001b[0m\n\u001b[1;37m             ^\u001b[0m\n\u001b[1;31mSyntaxError\u001b[0m\u001b[1;31m:\u001b[0m invalid syntax\n"
     ]
    }
   ],
   "source": [
    "#!/bin/bash\n",
    "nextflow run main.nf --reads 'path/to/reads/*_R{1,2}.fastq.gz' "
   ]
  },
  {
   "cell_type": "markdown",
   "metadata": {},
   "source": [
    "Nextflow Pipeline (main.nf)"
   ]
  },
  {
   "cell_type": "code",
   "execution_count": null,
   "metadata": {},
   "outputs": [],
   "source": [
    "params.reads = 'path/to/reads/*_R{1,2}.fastq.gz'\n",
    "params.genome = 'path/to/genome.fa'\n",
    "params.outdir = 'path/to/output/'\n",
    "\n",
    "process FastQC {\n",
    "    input:\n",
    "    path reads\n",
    "    output:\n",
    "    path 'fastqc/'\n",
    "    script:\n",
    "    \"\"\"\n",
    "    fastqc -o fastqc/ $reads\n",
    "    \"\"\"\n",
    "}\n",
    "\n",
    "process rRNAMapping {\n",
    "    input:\n",
    "    path reads\n",
    "    output:\n",
    "    path 'rRNA_unmapped/'\n",
    "    script:\n",
    "    \"\"\"\n",
    "    bowtie2 -x path/to/rRNA_index -1 ${reads[0]} -2 ${reads[1]} --un-conc rRNA_unmapped/ -S /dev/null\n",
    "    \"\"\"\n",
    "}\n",
    "\n",
    "process RSEMQuantification {\n",
    "    input:\n",
    "    path reads\n",
    "    output:\n",
    "    path 'rsem/'\n",
    "    script:\n",
    "    \"\"\"\n",
    "    rsem-calculate-expression --paired-end --bowtie2 --estimate-rspd --append-names --output-genome-bam ${reads[0]} ${reads[1]} $params.genome rsem/output\n",
    "    \"\"\"\n",
    "}\n",
    "\n",
    "workflow {\n",
    "    reads = Channel.fromPath(params.reads)\n",
    "    fastqc = FastQC(reads)\n",
    "    rRNA_unmapped = rRNAMapping(fastqc.out)\n",
    "    rsem = RSEMQuantification(rRNA_unmapped.out)\n",
    "}"
   ]
  }
 ],
 "metadata": {
  "kernelspec": {
   "display_name": "Python 3",
   "language": "python",
   "name": "python3"
  },
  "language_info": {
   "codemirror_mode": {
    "name": "ipython",
    "version": 3
   },
   "file_extension": ".py",
   "mimetype": "text/x-python",
   "name": "python",
   "nbconvert_exporter": "python",
   "pygments_lexer": "ipython3",
   "version": "3.11.9"
  }
 },
 "nbformat": 4,
 "nbformat_minor": 2
}
